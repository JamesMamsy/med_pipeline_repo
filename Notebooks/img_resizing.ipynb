{
 "cells": [
  {
   "cell_type": "code",
   "execution_count": 14,
   "metadata": {},
   "outputs": [],
   "source": [
    "import os,sys\n",
    "sys.path.insert(0,\"..\")\n",
    "from glob import glob\n",
    "import matplotlib.pyplot as plt\n",
    "import shutil\n",
    "import numpy as np\n",
    "import pandas as pd\n",
    "import pathlib\n",
    "import torch\n",
    "import torchvision\n",
    "import torchxrayvision as xrv\n",
    "import ast\n",
    "import math\n",
    "import re\n",
    "import skimage\n",
    "from PIL import Image\n",
    "from torchvision.transforms.functional import to_pil_image\n",
    "\n",
    "from concurrent.futures import ThreadPoolExecutor\n",
    "import os\n",
    "import skimage.io\n",
    "import skimage.color"
   ]
  },
  {
   "cell_type": "code",
   "execution_count": 12,
   "metadata": {},
   "outputs": [],
   "source": [
    "def convert_size(size_bytes):\n",
    "    if size_bytes == 0:\n",
    "        return \"0B\"\n",
    "    size_name = (\"B\", \"KB\", \"MB\", \"GB\", \"TB\", \"PB\", \"EB\", \"ZB\", \"YB\")\n",
    "    i = int(math.floor(math.log(size_bytes, 1024)))\n",
    "    p = math.pow(1024, i)\n",
    "    s = round(size_bytes / p, 2)\n",
    "    return f\"{s} {size_name[i]}\"\n",
    "\n",
    "def get_dir_size(start_path = '.'):\n",
    "    total_size = 0\n",
    "    total_files = 0\n",
    "    for dirpath, dirnames, filenames in os.walk(start_path):\n",
    "        for f in filenames:\n",
    "            fp = os.path.join(dirpath, f)\n",
    "            total_files += 1\n",
    "            if not os.path.islink(fp):\n",
    "                total_size += os.path.getsize(fp)\n",
    "    return convert_size(total_size), total_files"
   ]
  },
  {
   "cell_type": "code",
   "execution_count": 16,
   "metadata": {},
   "outputs": [
    {
     "name": "stdout",
     "output_type": "stream",
     "text": [
      "('65.64 MB', 27)\n",
      "('186.6 KB', 9)\n",
      "('47.85 KB', 9)\n",
      "('14.09 MB', 27)\n",
      "('200.27 KB', 9)\n",
      "('52.92 KB', 9)\n"
     ]
    }
   ],
   "source": [
    "print(get_dir_size(\"/ssd/jpmokc/analysis/Notebooks/test_imgs_pad\"))\n",
    "print(get_dir_size(\"/ssd/jpmokc/analysis/Notebooks/test_imgs_pad/PNG\"))\n",
    "print(get_dir_size(\"/ssd/jpmokc/analysis/Notebooks/test_imgs_pad/JPEG\"))\n",
    "print(get_dir_size(\"/ssd/jpmokc/analysis/Notebooks/test_imgs_mim\"))\n",
    "print(get_dir_size(\"/ssd/jpmokc/analysis/Notebooks/test_imgs_mim/PNG\"))\n",
    "print(get_dir_size(\"/ssd/jpmokc/analysis/Notebooks/test_imgs_mim/JPEG\"))"
   ]
  },
  {
   "cell_type": "code",
   "execution_count": 31,
   "metadata": {},
   "outputs": [],
   "source": [
    "#Avery's code\n",
    "def print_image_shapes(folder_path):\n",
    "    for dirpath, _, filenames in os.walk(folder_path):\n",
    "        for filename in filenames:\n",
    "            if filename.endswith('.jpg') or filename.endswith('.png'):\n",
    "                image_path = os.path.join(dirpath, filename)\n",
    "                img = skimage.io.imread(image_path)\n",
    "                print(f\"Image {filename} shape: {img.shape}\")\n",
    "                \n",
    "def process_image(source_file_path, image_folder, file_format):\n",
    "    transform = torchvision.transforms.Compose([xrv.datasets.XRayCenterCrop(), xrv.datasets.XRayResizer(224)])\n",
    "    dest_dir_path = os.path.join(image_folder, file_format.upper())\n",
    "    os.makedirs(dest_dir_path, exist_ok=True)\n",
    "    base_filename, _ = os.path.splitext(os.path.basename(source_file_path))\n",
    "    dest_file_path = os.path.join(dest_dir_path, f\"{base_filename}.{file_format.lower()}\")\n",
    "\n",
    "    img = skimage.io.imread(source_file_path)\n",
    "    img = img / img.max()\n",
    "\n",
    "    if len(img.shape) == 3:\n",
    "        if img.shape[2] == 4:\n",
    "            img = skimage.color.rgba2rgb(img)\n",
    "        img = skimage.color.rgb2gray(img)\n",
    "    elif len(img.shape) < 2:\n",
    "        print(\"error, dimension lower than 2 for image\")\n",
    "\n",
    "    img = img[None, :, :]\n",
    "\n",
    "    if transform is not None:\n",
    "        img = transform(img)\n",
    "\n",
    "    img = torch.from_numpy(img)\n",
    "\n",
    "    pil_transform = torchvision.transforms.ToPILImage(mode='L')\n",
    "    img = pil_transform(img)\n",
    "\n",
    "    save_format = file_format if file_format != 'JPG' else 'JPEG'  # Use 'JPEG' for PIL saving\n",
    "    img.save(dest_file_path, format=save_format)\n",
    "\n",
    "def process_images_in_folder(image_folder):\n",
    "    original_size, original_files = get_dir_size(image_folder)\n",
    "    print(f\"Original size of folder {image_folder}: {original_size}\")\n",
    "\n",
    "    image_paths = [os.path.join(image_folder, filename) for filename in os.listdir(image_folder) if filename.endswith('.jpg') or filename.endswith('.png')]\n",
    "\n",
    "    for file_format in ['JPG', 'PNG']:\n",
    "        with ThreadPoolExecutor() as executor:\n",
    "            list(executor.map(process_image, image_paths, [image_folder]*len(image_paths), [file_format]*len(image_paths)))\n",
    "\n",
    "    jpg_size, jpg_files = get_dir_size(os.path.join(image_folder, 'JPG'))\n",
    "    png_size, png_files = get_dir_size(os.path.join(image_folder, 'PNG'))\n",
    "    print(f\"New JPG folder size: {jpg_size}, New PNG folder size: {png_size}\")\n",
    "    # print_image_shapes(os.path.join(image_folder, 'JPG'))\n",
    "    # print_image_shapes(os.path.join(image_folder, 'PNG'))\n"
   ]
  },
  {
   "cell_type": "code",
   "execution_count": 36,
   "metadata": {},
   "outputs": [
    {
     "name": "stdout",
     "output_type": "stream",
     "text": [
      "('488.25 GB', 620669)\n",
      "('83.46 GB', 148998)\n",
      "('840.79 GB', 139409)\n",
      "('2.27 GB', 291)\n"
     ]
    }
   ],
   "source": [
    "mimic_path = \"/ssd2/jpmokc/datasets/physionet.org/files/mimic-cxr-jpg/2.0.0/files\"\n",
    "mimic_reduced_path = \"/ssd2/jpmokc/datasets/training/data/mimic\"\n",
    "\n",
    "pad_path= \"/ssd2/jpmokc/datasets/PADCHEST_SJ/image_zips\"\n",
    "pad_reduced_path = \"/ssd2/jpmokc/datasets/training/data/pad-chest/no-finding/ap\"\n",
    "\n",
    "print(get_dir_size(mimic_path))\n",
    "print(get_dir_size(mimic_reduced_path))\n",
    "print(get_dir_size(pad_path))\n",
    "print(get_dir_size(pad_reduced_path))"
   ]
  },
  {
   "cell_type": "code",
   "execution_count": 32,
   "metadata": {},
   "outputs": [],
   "source": [
    "test_img_dir_pad = \"/ssd/jpmokc/analysis/Notebooks/test_imgs_pad/\"\n",
    "test_img_dir_mim = \"/ssd/jpmokc/analysis/Notebooks/test_imgs_mim/\"\n",
    "\n",
    "pad_dir_eff_ap = \"/ssd2/jpmokc/datasets/training/data/pad-chest/effusion/ap\"\n",
    "pad_dir_eff_pa = \"/ssd2/jpmokc/datasets/training/data/pad-chest/effusion/pa\"\n",
    "pad_dir_cardio_ap = \"/ssd2/jpmokc/datasets/training/data/pad-chest/cardiomegaly/ap\"\n",
    "pad_dir_cardio_pa = \"/ssd2/jpmokc/datasets/training/data/pad-chest/cardiomegaly/pa\"\n",
    "pad_dir_norm_ap = \"/ssd2/jpmokc/datasets/training/data/pad-chest/no-finding/ap\"\n",
    "pad_dir_norm_pa = \"/ssd2/jpmokc/datasets/training/data/pad-chest/no-finding/pa\"\n",
    "pad_dir_pnu_ap = \"/ssd2/jpmokc/datasets/training/data/pad-chest/pneumonia/ap\"\n",
    "pad_dir_pnu_pa = \"/ssd2/jpmokc/datasets/training/data/pad-chest/pneumonia/pa\"\n",
    "\n",
    "mimic_dir_eff_ap = \"/ssd2/jpmokc/datasets/training/data/mimic/effusion/ap\"\n",
    "mimic_dir_eff_pa = \"/ssd2/jpmokc/datasets/training/data/mimic/effusion/pa\"\n",
    "mimic_dir_cardio_ap = \"/ssd2/jpmokc/datasets/training/data/mimic/cardiomegaly/ap\"\n",
    "mimic_dir_cardio_pa = \"/ssd2/jpmokc/datasets/training/data/mimic/cardiomegaly/pa\"\n",
    "mimic_dir_norm_ap = \"/ssd2/jpmokc/datasets/training/data/mimic/no-finding/ap\"\n",
    "mimic_dir_norm_pa = \"/ssd2/jpmokc/datasets/training/data/mimic/no-finding/pa\"\n",
    "mimic_dir_pnu_ap = \"/ssd2/jpmokc/datasets/training/data/mimic/pneumonia/ap\"\n",
    "mimic_dir_pnu_pa = \"/ssd2/jpmokc/datasets/training/data/mimic/pneumonia/pa\"\n"
   ]
  },
  {
   "cell_type": "code",
   "execution_count": 33,
   "metadata": {},
   "outputs": [
    {
     "name": "stdout",
     "output_type": "stream",
     "text": [
      "Original size of folder /ssd2/jpmokc/datasets/training/data/mimic/effusion/pa: 1.11 GB\n",
      "New JPG folder size: 4.52 MB, New PNG folder size: 17.17 MB\n",
      "Original size of folder /ssd2/jpmokc/datasets/training/data/mimic/effusion/ap: 1.05 GB\n",
      "New JPG folder size: 3.54 MB, New PNG folder size: 13.51 MB\n",
      "Original size of folder /ssd2/jpmokc/datasets/training/data/mimic/no-finding/pa: 51.75 GB\n",
      "New JPG folder size: 186.69 MB, New PNG folder size: 705.22 MB\n",
      "Original size of folder /ssd2/jpmokc/datasets/training/data/mimic/no-finding/ap: 19.18 GB\n",
      "New JPG folder size: 63.9 MB, New PNG folder size: 243.9 MB\n",
      "Original size of folder /ssd2/jpmokc/datasets/training/data/mimic/pneumonia/pa: 2.01 GB\n",
      "New JPG folder size: 7.45 MB, New PNG folder size: 28.03 MB\n",
      "Original size of folder /ssd2/jpmokc/datasets/training/data/mimic/pneumonia/ap: 699.74 MB\n",
      "New JPG folder size: 2.39 MB, New PNG folder size: 8.99 MB\n",
      "Original size of folder /ssd2/jpmokc/datasets/training/data/pad-chest/effusion/pa: 6.62 GB\n",
      "New JPG folder size: 4.55 MB, New PNG folder size: 17.93 MB\n",
      "Original size of folder /ssd2/jpmokc/datasets/training/data/pad-chest/effusion/ap: 1.1 GB\n",
      "New JPG folder size: 404.17 KB, New PNG folder size: 1.65 MB\n",
      "Original size of folder /ssd2/jpmokc/datasets/training/data/pad-chest/no-finding/pa: 159.48 GB\n"
     ]
    },
    {
     "ename": "SyntaxError",
     "evalue": "broken PNG file (chunk b'\\x00\\x00\\x00\\x00') (<string>)",
     "output_type": "error",
     "traceback": [
      "Traceback \u001b[0;36m(most recent call last)\u001b[0m:\n",
      "  File \u001b[1;32m\"/usr/lib/python3/dist-packages/IPython/core/interactiveshell.py\"\u001b[0m, line \u001b[1;32m3331\u001b[0m, in \u001b[1;35mrun_code\u001b[0m\n    exec(code_obj, self.user_global_ns, self.user_ns)\n",
      "  File \u001b[1;32m\"<ipython-input-33-8d5d3563e0f4>\"\u001b[0m, line \u001b[1;32m9\u001b[0m, in \u001b[1;35m<module>\u001b[0m\n    process_images_in_folder(pad_dir_norm_pa)\n",
      "  File \u001b[1;32m\"<ipython-input-31-fe4184a2f992>\"\u001b[0m, line \u001b[1;32m48\u001b[0m, in \u001b[1;35mprocess_images_in_folder\u001b[0m\n    list(executor.map(process_image, image_paths, [image_folder]*len(image_paths), [file_format]*len(image_paths)))\n",
      "  File \u001b[1;32m\"/usr/lib/python3.8/concurrent/futures/_base.py\"\u001b[0m, line \u001b[1;32m619\u001b[0m, in \u001b[1;35mresult_iterator\u001b[0m\n    yield fs.pop().result()\n",
      "  File \u001b[1;32m\"/usr/lib/python3.8/concurrent/futures/_base.py\"\u001b[0m, line \u001b[1;32m437\u001b[0m, in \u001b[1;35mresult\u001b[0m\n    return self.__get_result()\n",
      "  File \u001b[1;32m\"/usr/lib/python3.8/concurrent/futures/_base.py\"\u001b[0m, line \u001b[1;32m389\u001b[0m, in \u001b[1;35m__get_result\u001b[0m\n    raise self._exception\n",
      "  File \u001b[1;32m\"/usr/lib/python3.8/concurrent/futures/thread.py\"\u001b[0m, line \u001b[1;32m57\u001b[0m, in \u001b[1;35mrun\u001b[0m\n    result = self.fn(*self.args, **self.kwargs)\n",
      "  File \u001b[1;32m\"<ipython-input-31-fe4184a2f992>\"\u001b[0m, line \u001b[1;32m17\u001b[0m, in \u001b[1;35mprocess_image\u001b[0m\n    img = skimage.io.imread(source_file_path)\n",
      "  File \u001b[1;32m\"/usr/lib/python3/dist-packages/skimage/io/_io.py\"\u001b[0m, line \u001b[1;32m48\u001b[0m, in \u001b[1;35mimread\u001b[0m\n    img = call_plugin('imread', fname, plugin=plugin, **plugin_args)\n",
      "  File \u001b[1;32m\"/usr/lib/python3/dist-packages/skimage/io/manage_plugins.py\"\u001b[0m, line \u001b[1;32m210\u001b[0m, in \u001b[1;35mcall_plugin\u001b[0m\n    return func(*args, **kwargs)\n",
      "  File \u001b[1;32m\"/usr/lib/python3/dist-packages/skimage/io/_plugins/imageio_plugin.py\"\u001b[0m, line \u001b[1;32m10\u001b[0m, in \u001b[1;35mimread\u001b[0m\n    return np.asarray(imageio_imread(*args, **kwargs))\n",
      "  File \u001b[1;32m\"/usr/lib/python3/dist-packages/imageio/core/functions.py\"\u001b[0m, line \u001b[1;32m221\u001b[0m, in \u001b[1;35mimread\u001b[0m\n    reader = read(uri, format, \"i\", **kwargs)\n",
      "  File \u001b[1;32m\"/usr/lib/python3/dist-packages/imageio/core/functions.py\"\u001b[0m, line \u001b[1;32m143\u001b[0m, in \u001b[1;35mget_reader\u001b[0m\n    return format.get_reader(request)\n",
      "  File \u001b[1;32m\"/usr/lib/python3/dist-packages/imageio/core/format.py\"\u001b[0m, line \u001b[1;32m174\u001b[0m, in \u001b[1;35mget_reader\u001b[0m\n    return self.Reader(self, request)\n",
      "  File \u001b[1;32m\"/usr/lib/python3/dist-packages/imageio/core/format.py\"\u001b[0m, line \u001b[1;32m224\u001b[0m, in \u001b[1;35m__init__\u001b[0m\n    self._open(**self.request.kwargs.copy())\n",
      "  File \u001b[1;32m\"/usr/lib/python3/dist-packages/imageio/plugins/pillow.py\"\u001b[0m, line \u001b[1;32m276\u001b[0m, in \u001b[1;35m_open\u001b[0m\n    return PillowFormat.Reader._open(self, pilmode=pilmode, as_gray=as_gray)\n",
      "  File \u001b[1;32m\"/usr/lib/python3/dist-packages/imageio/plugins/pillow.py\"\u001b[0m, line \u001b[1;32m125\u001b[0m, in \u001b[1;35m_open\u001b[0m\n    pil_try_read(self._im)\n",
      "  File \u001b[1;32m\"/usr/lib/python3/dist-packages/imageio/plugins/pillow.py\"\u001b[0m, line \u001b[1;32m501\u001b[0m, in \u001b[1;35mpil_try_read\u001b[0m\n    im.getdata()[0]\n",
      "  File \u001b[1;32m\"/usr/lib/python3/dist-packages/PIL/Image.py\"\u001b[0m, line \u001b[1;32m1249\u001b[0m, in \u001b[1;35mgetdata\u001b[0m\n    self.load()\n",
      "  File \u001b[1;32m\"/usr/lib/python3/dist-packages/PIL/ImageFile.py\"\u001b[0m, line \u001b[1;32m233\u001b[0m, in \u001b[1;35mload\u001b[0m\n    s = read(self.decodermaxblock)\n",
      "  File \u001b[1;32m\"/usr/lib/python3/dist-packages/PIL/PngImagePlugin.py\"\u001b[0m, line \u001b[1;32m650\u001b[0m, in \u001b[1;35mload_read\u001b[0m\n    cid, pos, length = self.png.read()\n",
      "\u001b[0;36m  File \u001b[0;32m\"/usr/lib/python3/dist-packages/PIL/PngImagePlugin.py\"\u001b[0;36m, line \u001b[0;32m121\u001b[0;36m, in \u001b[0;35mread\u001b[0;36m\u001b[0m\n\u001b[0;31m    raise SyntaxError(\"broken PNG file (chunk %s)\" % repr(cid))\u001b[0m\n",
      "\u001b[0;36m  File \u001b[0;32m\"<string>\"\u001b[0;36m, line \u001b[0;32munknown\u001b[0m\n\u001b[0;31mSyntaxError\u001b[0m\u001b[0;31m:\u001b[0m broken PNG file (chunk b'\\x00\\x00\\x00\\x00')\n"
     ]
    }
   ],
   "source": [
    "\n",
    "process_images_in_folder(mimic_dir_eff_pa)\n",
    "process_images_in_folder(mimic_dir_eff_ap)\n",
    "process_images_in_folder(mimic_dir_norm_pa)\n",
    "process_images_in_folder(mimic_dir_norm_ap)\n",
    "process_images_in_folder(mimic_dir_pnu_pa)\n",
    "process_images_in_folder(mimic_dir_pnu_ap)\n",
    "process_images_in_folder(pad_dir_eff_pa)\n",
    "process_images_in_folder(pad_dir_eff_ap)\n",
    "process_images_in_folder(pad_dir_norm_pa)\n",
    "process_images_in_folder(pad_dir_norm_ap)\n",
    "process_images_in_folder(pad_dir_pnu_pa)\n",
    "process_images_in_folder(pad_dir_pnu_ap)\n"
   ]
  }
 ],
 "metadata": {
  "kernelspec": {
   "display_name": "Python 3",
   "language": "python",
   "name": "python3"
  },
  "language_info": {
   "codemirror_mode": {
    "name": "ipython",
    "version": 3
   },
   "file_extension": ".py",
   "mimetype": "text/x-python",
   "name": "python",
   "nbconvert_exporter": "python",
   "pygments_lexer": "ipython3",
   "version": "3.8.10"
  },
  "orig_nbformat": 4
 },
 "nbformat": 4,
 "nbformat_minor": 2
}
