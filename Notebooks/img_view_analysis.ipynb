{
 "cells": [
  {
   "cell_type": "code",
   "execution_count": 1,
   "metadata": {},
   "outputs": [],
   "source": [
    "import os,sys\n",
    "sys.path.insert(0,\"..\")\n",
    "from glob import glob\n",
    "import matplotlib.pyplot as plt\n",
    "import numpy as np\n",
    "import pandas as pd\n",
    "import torch\n",
    "import torchvision\n",
    "import ast\n",
    "import torchxrayvision as xrv"
   ]
  },
  {
   "cell_type": "code",
   "execution_count": 50,
   "metadata": {},
   "outputs": [],
   "source": [
    "#CSV Paths\n",
    "metadata_path = \"/ssd2/jpmokc/datasets/physionet.org/files/mimic-cxr-jpg/2.0.0/mimic-cxr-2.0.0-metadata.csv.gz\"\n",
    "cheXpert_path = \"/ssd2/jpmokc/datasets/physionet.org/files/mimic-cxr-jpg/2.0.0/mimic-cxr-2.0.0-chexpert.csv.gz\"\n",
    "negbio_path = \"/ssd2/jpmokc/datasets/physionet.org/files/mimic-cxr-jpg/2.0.0/mimic-cxr-2.0.0-negbio.csv.gz\"\n",
    "\n",
    "d_mimic = xrv.datasets.MIMIC_Dataset(imgpath=\"/\", csvpath=cheXpert_path, metacsvpath=metadata_path, views=['PA','AP'])\n"
   ]
  },
  {
   "cell_type": "code",
   "execution_count": 2,
   "metadata": {},
   "outputs": [],
   "source": [
    "d_pad = xrv.datasets.PC_Dataset(imgpath=\"/ssd2/jpmokc/datasets/PADCHEST_SJ/image_zips\", views=[\"PA\",\"AP\"])"
   ]
  },
  {
   "cell_type": "code",
   "execution_count": 44,
   "metadata": {},
   "outputs": [
    {
     "data": {
      "text/plain": [
       "array(['CHEST (PA AND LAT)', 'CHEST (PORTABLE AP)',\n",
       "       'DX CHEST PORT LINE/TUBE PLCMT 1 EXAM', 'postero-anterior',\n",
       "       'DX CHEST & RIBS', 'DX CHEST PORTABLE PICC LINE PLACEMENT',\n",
       "       'CHEST PORT LINE PLACEMENT', 'antero-posterior',\n",
       "       'TRAUMA No.2 (AP CXR & PELVIS PORT)',\n",
       "       'DX CHEST PORT LINE/TUBE PLCMT 2 EXAMS', 'DX CHEST WITH DECUB',\n",
       "       'CHEST (SINGLE VIEW)', 'CHEST PORT LINE/TUBE PLCT 1 EXAM',\n",
       "       'DX CHEST PORT LINE/TUBE PLCMT 3 EXAMS',\n",
       "       'TRAUMA #3 (PORT CHEST ONLY)',\n",
       "       'DX CHEST 2 VIEW PICC LINE PLACEMENT',\n",
       "       'DX CHEST PORT LINE/TUBE PLCMT 4 EXAMS', 'CHEST PRE-OP',\n",
       "       'ABDOMEN (SUPINE ONLY)', 'CHEST SGL VIEW/LINE PLACEMENT',\n",
       "       'CHEST (PRE-OP PA & LAT)', 'DX TRAUMA SERIES (PORTABLE)'],\n",
       "      dtype=object)"
      ]
     },
     "execution_count": 44,
     "metadata": {},
     "output_type": "execute_result"
    }
   ],
   "source": [
    "d_mimic.csv[\"ProcedureCodeSequence_CodeMeaning\"].unique()"
   ]
  },
  {
   "attachments": {},
   "cell_type": "markdown",
   "metadata": {},
   "source": [
    "##Code Sequence Meanings:\n",
    "\n",
    "    - Chest (PA and LAT) -> Includes PA view and Lat view\n",
    "    - Chest (Portable AP) -> Just a single AP view -> 19,000\n",
    "    - Chest (Single view) -> Mostly AP a few PAs - Very few\n",
    "    - Antero-posterior -> AP and Lat views\n",
    "    - Posterior-Antero -> PA and Lat views\n",
    "    \n",
    "    "
   ]
  },
  {
   "cell_type": "code",
   "execution_count": 47,
   "metadata": {},
   "outputs": [
    {
     "data": {
      "text/html": [
       "<div>\n",
       "<style scoped>\n",
       "    .dataframe tbody tr th:only-of-type {\n",
       "        vertical-align: middle;\n",
       "    }\n",
       "\n",
       "    .dataframe tbody tr th {\n",
       "        vertical-align: top;\n",
       "    }\n",
       "\n",
       "    .dataframe thead th {\n",
       "        text-align: right;\n",
       "    }\n",
       "</style>\n",
       "<table border=\"1\" class=\"dataframe\">\n",
       "  <thead>\n",
       "    <tr style=\"text-align: right;\">\n",
       "      <th></th>\n",
       "      <th>study_id</th>\n",
       "      <th>patientid</th>\n",
       "      <th>view</th>\n",
       "      <th>ProcedureCodeSequence_CodeMeaning</th>\n",
       "    </tr>\n",
       "  </thead>\n",
       "  <tbody>\n",
       "    <tr>\n",
       "      <th>1</th>\n",
       "      <td>57375967</td>\n",
       "      <td>10000764</td>\n",
       "      <td>AP</td>\n",
       "      <td>CHEST (PA AND LAT)</td>\n",
       "    </tr>\n",
       "    <tr>\n",
       "      <th>6</th>\n",
       "      <td>53957785</td>\n",
       "      <td>10001122</td>\n",
       "      <td>AP</td>\n",
       "      <td>CHEST (PA AND LAT)</td>\n",
       "    </tr>\n",
       "    <tr>\n",
       "      <th>13</th>\n",
       "      <td>52823782</td>\n",
       "      <td>10002131</td>\n",
       "      <td>AP</td>\n",
       "      <td>CHEST (PA AND LAT)</td>\n",
       "    </tr>\n",
       "    <tr>\n",
       "      <th>19</th>\n",
       "      <td>52212843</td>\n",
       "      <td>10002559</td>\n",
       "      <td>AP</td>\n",
       "      <td>CHEST (PA AND LAT)</td>\n",
       "    </tr>\n",
       "    <tr>\n",
       "      <th>21</th>\n",
       "      <td>55885481</td>\n",
       "      <td>10002930</td>\n",
       "      <td>AP</td>\n",
       "      <td>CHEST (PA AND LAT)</td>\n",
       "    </tr>\n",
       "    <tr>\n",
       "      <th>...</th>\n",
       "      <td>...</td>\n",
       "      <td>...</td>\n",
       "      <td>...</td>\n",
       "      <td>...</td>\n",
       "    </tr>\n",
       "    <tr>\n",
       "      <th>63904</th>\n",
       "      <td>53069774</td>\n",
       "      <td>19994505</td>\n",
       "      <td>AP</td>\n",
       "      <td>CHEST (PA AND LAT)</td>\n",
       "    </tr>\n",
       "    <tr>\n",
       "      <th>63906</th>\n",
       "      <td>53860483</td>\n",
       "      <td>19994588</td>\n",
       "      <td>AP</td>\n",
       "      <td>CHEST (PA AND LAT)</td>\n",
       "    </tr>\n",
       "    <tr>\n",
       "      <th>63907</th>\n",
       "      <td>51399704</td>\n",
       "      <td>19994600</td>\n",
       "      <td>AP</td>\n",
       "      <td>CHEST (PA AND LAT)</td>\n",
       "    </tr>\n",
       "    <tr>\n",
       "      <th>63920</th>\n",
       "      <td>57654063</td>\n",
       "      <td>19996061</td>\n",
       "      <td>AP</td>\n",
       "      <td>CHEST (PA AND LAT)</td>\n",
       "    </tr>\n",
       "    <tr>\n",
       "      <th>63936</th>\n",
       "      <td>51149538</td>\n",
       "      <td>19998770</td>\n",
       "      <td>AP</td>\n",
       "      <td>CHEST (PA AND LAT)</td>\n",
       "    </tr>\n",
       "  </tbody>\n",
       "</table>\n",
       "<p>6858 rows × 4 columns</p>\n",
       "</div>"
      ],
      "text/plain": [
       "       study_id patientid view ProcedureCodeSequence_CodeMeaning\n",
       "1      57375967  10000764   AP                CHEST (PA AND LAT)\n",
       "6      53957785  10001122   AP                CHEST (PA AND LAT)\n",
       "13     52823782  10002131   AP                CHEST (PA AND LAT)\n",
       "19     52212843  10002559   AP                CHEST (PA AND LAT)\n",
       "21     55885481  10002930   AP                CHEST (PA AND LAT)\n",
       "...         ...       ...  ...                               ...\n",
       "63904  53069774  19994505   AP                CHEST (PA AND LAT)\n",
       "63906  53860483  19994588   AP                CHEST (PA AND LAT)\n",
       "63907  51399704  19994600   AP                CHEST (PA AND LAT)\n",
       "63920  57654063  19996061   AP                CHEST (PA AND LAT)\n",
       "63936  51149538  19998770   AP                CHEST (PA AND LAT)\n",
       "\n",
       "[6858 rows x 4 columns]"
      ]
     },
     "execution_count": 47,
     "metadata": {},
     "output_type": "execute_result"
    }
   ],
   "source": [
    "#Used this brick to apply different filters to get a gist of what views corresponded with what codesequences \n",
    "\n",
    "df_imageInfo = pd.concat([d_mimic.csv[\"study_id\"],d_mimic.csv[\"patientid\"],d_mimic.csv[\"view\"],d_mimic.csv[\"ProcedureCodeSequence_CodeMeaning\"]], axis=1)\n",
    "filter = df_imageInfo[\"ProcedureCodeSequence_CodeMeaning\"] == 'CHEST (PA AND LAT)'\n",
    "filter2 = df_imageInfo['view'] == \"AP\"\n",
    "df_imageInfo[filter & filter2]"
   ]
  },
  {
   "cell_type": "code",
   "execution_count": 54,
   "metadata": {},
   "outputs": [
    {
     "data": {
      "text/plain": [
       "array(['PA', nan, 'POSTEROANTERIOR', 'ANTEROPOSTERIOR', 'AP'],\n",
       "      dtype=object)"
      ]
     },
     "execution_count": 54,
     "metadata": {},
     "output_type": "execute_result"
    }
   ],
   "source": [
    "#Different Labels for the same view\n",
    "d_pad.csv['ViewPosition_DICOM'].unique()"
   ]
  },
  {
   "cell_type": "code",
   "execution_count": 58,
   "metadata": {},
   "outputs": [],
   "source": [
    "pad_image_info = pd.concat([d_pad.csv['ImageID'],d_pad.csv['ImageDir'],d_pad.csv['view']], axis=1)"
   ]
  },
  {
   "cell_type": "code",
   "execution_count": 60,
   "metadata": {},
   "outputs": [
    {
     "data": {
      "text/html": [
       "<div>\n",
       "<style scoped>\n",
       "    .dataframe tbody tr th:only-of-type {\n",
       "        vertical-align: middle;\n",
       "    }\n",
       "\n",
       "    .dataframe tbody tr th {\n",
       "        vertical-align: top;\n",
       "    }\n",
       "\n",
       "    .dataframe thead th {\n",
       "        text-align: right;\n",
       "    }\n",
       "</style>\n",
       "<table border=\"1\" class=\"dataframe\">\n",
       "  <thead>\n",
       "    <tr style=\"text-align: right;\">\n",
       "      <th></th>\n",
       "      <th>ImageID</th>\n",
       "      <th>ImageDir</th>\n",
       "      <th>view</th>\n",
       "    </tr>\n",
       "  </thead>\n",
       "  <tbody>\n",
       "    <tr>\n",
       "      <th>12</th>\n",
       "      <td>216840111366964012819207061112010293090120822_...</td>\n",
       "      <td>34</td>\n",
       "      <td>AP</td>\n",
       "    </tr>\n",
       "    <tr>\n",
       "      <th>38</th>\n",
       "      <td>185901399126852050366705436556047034618_8dtky4...</td>\n",
       "      <td>54</td>\n",
       "      <td>AP</td>\n",
       "    </tr>\n",
       "    <tr>\n",
       "      <th>83</th>\n",
       "      <td>216840111366964012558082906712010081145319302_...</td>\n",
       "      <td>33</td>\n",
       "      <td>AP</td>\n",
       "    </tr>\n",
       "    <tr>\n",
       "      <th>100</th>\n",
       "      <td>216840111366964012810946289282010223092157433_...</td>\n",
       "      <td>12</td>\n",
       "      <td>AP</td>\n",
       "    </tr>\n",
       "    <tr>\n",
       "      <th>103</th>\n",
       "      <td>216840111366964012373310883942009168083631183_...</td>\n",
       "      <td>37</td>\n",
       "      <td>AP</td>\n",
       "    </tr>\n",
       "    <tr>\n",
       "      <th>...</th>\n",
       "      <td>...</td>\n",
       "      <td>...</td>\n",
       "      <td>...</td>\n",
       "    </tr>\n",
       "    <tr>\n",
       "      <th>63552</th>\n",
       "      <td>216840111366964012373310883942009195111853512_...</td>\n",
       "      <td>37</td>\n",
       "      <td>AP</td>\n",
       "    </tr>\n",
       "    <tr>\n",
       "      <th>63575</th>\n",
       "      <td>216840111366964013686042548532013177085237836_...</td>\n",
       "      <td>15</td>\n",
       "      <td>AP</td>\n",
       "    </tr>\n",
       "    <tr>\n",
       "      <th>63689</th>\n",
       "      <td>216840111366964013439197051132012220102219417_...</td>\n",
       "      <td>19</td>\n",
       "      <td>AP</td>\n",
       "    </tr>\n",
       "    <tr>\n",
       "      <th>63731</th>\n",
       "      <td>216840111366964012810946289282010218091856402_...</td>\n",
       "      <td>12</td>\n",
       "      <td>AP</td>\n",
       "    </tr>\n",
       "    <tr>\n",
       "      <th>63795</th>\n",
       "      <td>216840111366964013375835044302012152192753124_...</td>\n",
       "      <td>28</td>\n",
       "      <td>AP</td>\n",
       "    </tr>\n",
       "  </tbody>\n",
       "</table>\n",
       "<p>1648 rows × 3 columns</p>\n",
       "</div>"
      ],
      "text/plain": [
       "                                                 ImageID  ImageDir view\n",
       "12     216840111366964012819207061112010293090120822_...        34   AP\n",
       "38     185901399126852050366705436556047034618_8dtky4...        54   AP\n",
       "83     216840111366964012558082906712010081145319302_...        33   AP\n",
       "100    216840111366964012810946289282010223092157433_...        12   AP\n",
       "103    216840111366964012373310883942009168083631183_...        37   AP\n",
       "...                                                  ...       ...  ...\n",
       "63552  216840111366964012373310883942009195111853512_...        37   AP\n",
       "63575  216840111366964013686042548532013177085237836_...        15   AP\n",
       "63689  216840111366964013439197051132012220102219417_...        19   AP\n",
       "63731  216840111366964012810946289282010218091856402_...        12   AP\n",
       "63795  216840111366964013375835044302012152192753124_...        28   AP\n",
       "\n",
       "[1648 rows x 3 columns]"
      ]
     },
     "execution_count": 60,
     "metadata": {},
     "output_type": "execute_result"
    }
   ],
   "source": [
    "filter1 = pad_image_info['view'] == 'AP'\n",
    "pad_image_info[filter1]"
   ]
  },
  {
   "cell_type": "code",
   "execution_count": null,
   "metadata": {},
   "outputs": [],
   "source": [
    "def resize_img(path, size):\n",
    "    img = skimage.io.imread(path)\n",
    "    img = xrv.datasets.normalize(img, 255) # convert 8-bit image to [-1024, 1024] range\n",
    "    img = img.mean(2)[None, ...] # Make single color channel\n",
    "\n",
    "    transform = torchvision.transforms.Compose([xrv.datasets.XRayCenterCrop(),xrv.datasets.XRayResizer(size)])\n",
    "    img = transform(img)\n",
    "    img = torch.from_numpy(img)\n",
    "\n",
    "    return img"
   ]
  }
 ],
 "metadata": {
  "kernelspec": {
   "display_name": "Python 3",
   "language": "python",
   "name": "python3"
  },
  "language_info": {
   "codemirror_mode": {
    "name": "ipython",
    "version": 3
   },
   "file_extension": ".py",
   "mimetype": "text/x-python",
   "name": "python",
   "nbconvert_exporter": "python",
   "pygments_lexer": "ipython3",
   "version": "3.8.10"
  }
 },
 "nbformat": 4,
 "nbformat_minor": 2
}
